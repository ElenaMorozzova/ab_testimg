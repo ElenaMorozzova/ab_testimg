{
 "cells": [
  {
   "cell_type": "code",
   "execution_count": 1,
   "id": "changed-resistance",
   "metadata": {},
   "outputs": [],
   "source": [
    "# Dataset is from a DataCamp project: https://www.datacamp.com/projects/184.\n",
    "# The data is about an A/B test from a mobile game Cookie Cats.\n",
    "# A common metric in the video gaming industry for how fun and engaging a game is 1-day retention: \n",
    "# the percentage of players that comes back and plays the game one day after they have installed it. \n",
    "# The higher 1-day retention is, the easier it is to retain players and build a large player base.\n",
    "# По мере прохождения игры игроки сталкиваются с воротами, которые заставляют их ждать некоторое время, прежде чем они смогут продвинуться или совершить покупку в приложении. \n",
    "# В этом проекте анализируется результат A/B-теста по метрике удержания игрока, в котором первые ворота Cookie Cats были перемещены с 30-го на 40-й уровень. \n",
    "\n",
    "# Сама игра Cookie Cats https://youtu.be/0G-612U2vQY"
   ]
  },
  {
   "cell_type": "code",
   "execution_count": 2,
   "id": "verbal-fields",
   "metadata": {},
   "outputs": [],
   "source": [
    "import numpy as np\n",
    "import pandas as pd \n",
    "import seaborn as sns\n",
    "import matplotlib.pyplot as plt\n",
    "import os\n",
    "import math \n",
    "import scipy.stats as st"
   ]
  },
  {
   "cell_type": "markdown",
   "id": "heavy-guess",
   "metadata": {},
   "source": [
    "### Загрузка датасета и первичный анализ признаков\n",
    "Импортируем набор данных - в тестовой выборке участвовало 90189 наблюдений, доступны 5 столбцов: \n",
    "\n",
    "- userid - уникальный id игрока, участвующий в тесте\n",
    "\n",
    "- version - метка, обозначающая тестовую (gate_40) или контрольную (gate_30) группу игроков\n",
    "\n",
    "- sum_gamerounds - число сыгранных игорком игр в первую неделю после установки\n",
    "\n",
    "- retention_1 - удержание игрока в игре на день 1 после установки\n",
    "\n",
    "- retention_7 - удержание игрока в игре на день 7 после установки\n",
    "\n",
    "Типы данных не нуждаются в оптимизации, пропусков нет, userid уникальный"
   ]
  },
  {
   "cell_type": "code",
   "execution_count": 162,
   "id": "descending-paintball",
   "metadata": {},
   "outputs": [
    {
     "data": {
      "text/html": [
       "<div>\n",
       "<style scoped>\n",
       "    .dataframe tbody tr th:only-of-type {\n",
       "        vertical-align: middle;\n",
       "    }\n",
       "\n",
       "    .dataframe tbody tr th {\n",
       "        vertical-align: top;\n",
       "    }\n",
       "\n",
       "    .dataframe thead th {\n",
       "        text-align: right;\n",
       "    }\n",
       "</style>\n",
       "<table border=\"1\" class=\"dataframe\">\n",
       "  <thead>\n",
       "    <tr style=\"text-align: right;\">\n",
       "      <th></th>\n",
       "      <th>userid</th>\n",
       "      <th>version</th>\n",
       "      <th>sum_gamerounds</th>\n",
       "      <th>retention_1</th>\n",
       "      <th>retention_7</th>\n",
       "    </tr>\n",
       "  </thead>\n",
       "  <tbody>\n",
       "    <tr>\n",
       "      <th>0</th>\n",
       "      <td>116</td>\n",
       "      <td>gate_30</td>\n",
       "      <td>3</td>\n",
       "      <td>False</td>\n",
       "      <td>False</td>\n",
       "    </tr>\n",
       "    <tr>\n",
       "      <th>1</th>\n",
       "      <td>337</td>\n",
       "      <td>gate_30</td>\n",
       "      <td>38</td>\n",
       "      <td>True</td>\n",
       "      <td>False</td>\n",
       "    </tr>\n",
       "    <tr>\n",
       "      <th>2</th>\n",
       "      <td>377</td>\n",
       "      <td>gate_40</td>\n",
       "      <td>165</td>\n",
       "      <td>True</td>\n",
       "      <td>False</td>\n",
       "    </tr>\n",
       "    <tr>\n",
       "      <th>3</th>\n",
       "      <td>483</td>\n",
       "      <td>gate_40</td>\n",
       "      <td>1</td>\n",
       "      <td>False</td>\n",
       "      <td>False</td>\n",
       "    </tr>\n",
       "    <tr>\n",
       "      <th>4</th>\n",
       "      <td>488</td>\n",
       "      <td>gate_40</td>\n",
       "      <td>179</td>\n",
       "      <td>True</td>\n",
       "      <td>True</td>\n",
       "    </tr>\n",
       "    <tr>\n",
       "      <th>5</th>\n",
       "      <td>540</td>\n",
       "      <td>gate_40</td>\n",
       "      <td>187</td>\n",
       "      <td>True</td>\n",
       "      <td>True</td>\n",
       "    </tr>\n",
       "    <tr>\n",
       "      <th>6</th>\n",
       "      <td>1066</td>\n",
       "      <td>gate_30</td>\n",
       "      <td>0</td>\n",
       "      <td>False</td>\n",
       "      <td>False</td>\n",
       "    </tr>\n",
       "    <tr>\n",
       "      <th>7</th>\n",
       "      <td>1444</td>\n",
       "      <td>gate_40</td>\n",
       "      <td>2</td>\n",
       "      <td>False</td>\n",
       "      <td>False</td>\n",
       "    </tr>\n",
       "    <tr>\n",
       "      <th>8</th>\n",
       "      <td>1574</td>\n",
       "      <td>gate_40</td>\n",
       "      <td>108</td>\n",
       "      <td>True</td>\n",
       "      <td>True</td>\n",
       "    </tr>\n",
       "    <tr>\n",
       "      <th>9</th>\n",
       "      <td>1587</td>\n",
       "      <td>gate_40</td>\n",
       "      <td>153</td>\n",
       "      <td>True</td>\n",
       "      <td>False</td>\n",
       "    </tr>\n",
       "  </tbody>\n",
       "</table>\n",
       "</div>"
      ],
      "text/plain": [
       "   userid  version  sum_gamerounds  retention_1  retention_7\n",
       "0     116  gate_30               3        False        False\n",
       "1     337  gate_30              38         True        False\n",
       "2     377  gate_40             165         True        False\n",
       "3     483  gate_40               1        False        False\n",
       "4     488  gate_40             179         True         True\n",
       "5     540  gate_40             187         True         True\n",
       "6    1066  gate_30               0        False        False\n",
       "7    1444  gate_40               2        False        False\n",
       "8    1574  gate_40             108         True         True\n",
       "9    1587  gate_40             153         True        False"
      ]
     },
     "execution_count": 162,
     "metadata": {},
     "output_type": "execute_result"
    }
   ],
   "source": [
    "DATASET_PATH = './datasets/cookie_cats.csv'\n",
    "df = pd.read_csv(DATASET_PATH, sep=',')\n",
    "df.head(10)"
   ]
  },
  {
   "cell_type": "code",
   "execution_count": 163,
   "id": "posted-fields",
   "metadata": {},
   "outputs": [
    {
     "data": {
      "text/plain": [
       "(90189, 5)"
      ]
     },
     "execution_count": 163,
     "metadata": {},
     "output_type": "execute_result"
    }
   ],
   "source": [
    "df.shape"
   ]
  },
  {
   "cell_type": "code",
   "execution_count": 164,
   "id": "rocky-bowling",
   "metadata": {},
   "outputs": [
    {
     "data": {
      "text/plain": [
       "userid             int64\n",
       "version           object\n",
       "sum_gamerounds     int64\n",
       "retention_1         bool\n",
       "retention_7         bool\n",
       "dtype: object"
      ]
     },
     "execution_count": 164,
     "metadata": {},
     "output_type": "execute_result"
    }
   ],
   "source": [
    "df.dtypes"
   ]
  },
  {
   "cell_type": "code",
   "execution_count": 165,
   "id": "focal-dictionary",
   "metadata": {},
   "outputs": [
    {
     "name": "stdout",
     "output_type": "stream",
     "text": [
      "<class 'pandas.core.frame.DataFrame'>\n",
      "RangeIndex: 90189 entries, 0 to 90188\n",
      "Data columns (total 5 columns):\n",
      " #   Column          Non-Null Count  Dtype \n",
      "---  ------          --------------  ----- \n",
      " 0   userid          90189 non-null  int64 \n",
      " 1   version         90189 non-null  object\n",
      " 2   sum_gamerounds  90189 non-null  int64 \n",
      " 3   retention_1     90189 non-null  bool  \n",
      " 4   retention_7     90189 non-null  bool  \n",
      "dtypes: bool(2), int64(2), object(1)\n",
      "memory usage: 2.2+ MB\n"
     ]
    }
   ],
   "source": [
    "df.info()"
   ]
  },
  {
   "cell_type": "code",
   "execution_count": 166,
   "id": "given-italy",
   "metadata": {},
   "outputs": [
    {
     "data": {
      "text/plain": [
       "90189"
      ]
     },
     "execution_count": 166,
     "metadata": {},
     "output_type": "execute_result"
    }
   ],
   "source": [
    "len(df['userid'].unique().tolist())"
   ]
  },
  {
   "cell_type": "code",
   "execution_count": 167,
   "id": "satisfied-perception",
   "metadata": {},
   "outputs": [
    {
     "data": {
      "text/plain": [
       "16781"
      ]
     },
     "execution_count": 167,
     "metadata": {},
     "output_type": "execute_result"
    }
   ],
   "source": [
    "# Из 90 тыс. наблюдений только 17 тыс. имеют удержание в игре на 7 день после установки приложения\n",
    "df.loc[df[\"retention_7\"] == True].shape[0]"
   ]
  },
  {
   "cell_type": "code",
   "execution_count": 168,
   "id": "efficient-cambridge",
   "metadata": {},
   "outputs": [
    {
     "data": {
      "text/plain": [
       "40153"
      ]
     },
     "execution_count": 168,
     "metadata": {},
     "output_type": "execute_result"
    }
   ],
   "source": [
    "# Из 90 тыс. наблюдений только 40 тыс. имеют удержание в игре на 1 день после установки приложения\n",
    "df.loc[df[\"retention_1\"] == True].shape[0]"
   ]
  },
  {
   "cell_type": "markdown",
   "id": "floating-venue",
   "metadata": {},
   "source": [
    "### Обработка выбросов"
   ]
  },
  {
   "cell_type": "markdown",
   "id": "abstract-policy",
   "metadata": {},
   "source": [
    "Есть выбросы по признаку sum_gamerounds, большое отклонение от среднего и слишком большое максимальное значение больше 4000 игр:"
   ]
  },
  {
   "cell_type": "code",
   "execution_count": 169,
   "id": "loaded-flour",
   "metadata": {},
   "outputs": [
    {
     "data": {
      "text/plain": [
       "<Figure size 432x288 with 0 Axes>"
      ]
     },
     "execution_count": 169,
     "metadata": {},
     "output_type": "execute_result"
    },
    {
     "data": {
      "image/png": "[encoded data removed]",
      "text/plain": [
       "<Figure size 432x288 with 1 Axes>"
      ]
     },
     "metadata": {
      "needs_background": "light"
     },
     "output_type": "display_data"
    },
    {
     "data": {
      "text/plain": [
       "<Figure size 432x288 with 0 Axes>"
      ]
     },
     "metadata": {},
     "output_type": "display_data"
    }
   ],
   "source": [
    "plt.scatter(df.userid, df[\"sum_gamerounds\"], c = \"steelblue\", marker = \"s\")\n",
    "plt.figure()"
   ]
  },
  {
   "cell_type": "code",
   "execution_count": 170,
   "id": "dirty-foundation",
   "metadata": {},
   "outputs": [
    {
     "data": {
      "text/plain": [
       "<Figure size 432x288 with 0 Axes>"
      ]
     },
     "execution_count": 170,
     "metadata": {},
     "output_type": "execute_result"
    },
    {
     "data": {
      "image/png": "[encoded data removed]",
      "text/plain": [
       "<Figure size 432x288 with 1 Axes>"
      ]
     },
     "metadata": {
      "needs_background": "light"
     },
     "output_type": "display_data"
    },
    {
     "data": {
      "text/plain": [
       "<Figure size 432x288 with 0 Axes>"
      ]
     },
     "metadata": {},
     "output_type": "display_data"
    }
   ],
   "source": [
    "# После исключения выброса по полю sum_gamerounds <4000 распределение значений имеет более красивый вид\n",
    "df = df[df[\"sum_gamerounds\"]<4000]\n",
    "plt.scatter(df.userid, df[\"sum_gamerounds\"], c = \"steelblue\", marker = \"s\")\n",
    "plt.figure()"
   ]
  },
  {
   "cell_type": "code",
   "execution_count": 171,
   "id": "trying-pasta",
   "metadata": {},
   "outputs": [
    {
     "data": {
      "image/png": "[encoded data removed]",
      "text/plain": [
       "<Figure size 1296x360 with 4 Axes>"
      ]
     },
     "metadata": {
      "needs_background": "light"
     },
     "output_type": "display_data"
    }
   ],
   "source": [
    "fig, axes = plt.subplots(1, 4, figsize = (18,5))\n",
    "df.sum_gamerounds.hist(ax = axes[0], color = \"steelblue\")\n",
    "df[(df.version == \"gate_30\")].hist(\"sum_gamerounds\", ax = axes[1], color = \"steelblue\")\n",
    "df[(df.version == \"gate_40\")].hist(\"sum_gamerounds\", ax = axes[2], color = \"steelblue\")\n",
    "sns.boxplot(x = df.version, y = df.sum_gamerounds, ax = axes[3])\n",
    "\n",
    "plt.suptitle(\"Распределения после исключения выброса\", fontsize = 15)\n",
    "axes[0].set_title(\"Распределение числа сыгранных игр\", fontsize = 12)\n",
    "axes[1].set_title(\"Число сыгранных игр версии Gate_30 (A)\", fontsize = 12)\n",
    "axes[2].set_title(\"Число сыгранных игр версии Gate_40 (B)\", fontsize = 12)\n",
    "axes[3].set_title(\"Распределение числа игр в разрезе AB версий\", fontsize = 12)\n",
    "\n",
    "plt.tight_layout(pad = 4);"
   ]
  },
  {
   "cell_type": "code",
   "execution_count": 172,
   "id": "consistent-enhancement",
   "metadata": {},
   "outputs": [
    {
     "data": {
      "text/plain": [
       "111"
      ]
     },
     "execution_count": 172,
     "metadata": {},
     "output_type": "execute_result"
    }
   ],
   "source": [
    "# Есть наблюдения с нулевым числом сыгранных раундов, но имеющих положительную метку retention. Возможно они не доиграли 1 раунд игры\n",
    "# Лучше такие наблюдения исключить, они не должны влиять на процент удержания игроков (таких в выборке 111 строк)\n",
    "df.loc[(df[\"sum_gamerounds\"] == 0) & ((df[\"retention_1\"] == True) | (df[\"retention_7\"] == True))].shape[0]"
   ]
  },
  {
   "cell_type": "code",
   "execution_count": 173,
   "id": "blond-psychiatry",
   "metadata": {},
   "outputs": [
    {
     "data": {
      "text/html": [
       "<div>\n",
       "<style scoped>\n",
       "    .dataframe tbody tr th:only-of-type {\n",
       "        vertical-align: middle;\n",
       "    }\n",
       "\n",
       "    .dataframe tbody tr th {\n",
       "        vertical-align: top;\n",
       "    }\n",
       "\n",
       "    .dataframe thead th {\n",
       "        text-align: right;\n",
       "    }\n",
       "</style>\n",
       "<table border=\"1\" class=\"dataframe\">\n",
       "  <thead>\n",
       "    <tr style=\"text-align: right;\">\n",
       "      <th></th>\n",
       "      <th>userid</th>\n",
       "      <th>version</th>\n",
       "      <th>sum_gamerounds</th>\n",
       "      <th>retention_1</th>\n",
       "      <th>retention_7</th>\n",
       "    </tr>\n",
       "  </thead>\n",
       "  <tbody>\n",
       "    <tr>\n",
       "      <th>1000</th>\n",
       "      <td>110479</td>\n",
       "      <td>gate_30</td>\n",
       "      <td>0</td>\n",
       "      <td>False</td>\n",
       "      <td>True</td>\n",
       "    </tr>\n",
       "    <tr>\n",
       "      <th>1872</th>\n",
       "      <td>203165</td>\n",
       "      <td>gate_30</td>\n",
       "      <td>0</td>\n",
       "      <td>True</td>\n",
       "      <td>False</td>\n",
       "    </tr>\n",
       "    <tr>\n",
       "      <th>2330</th>\n",
       "      <td>257330</td>\n",
       "      <td>gate_30</td>\n",
       "      <td>0</td>\n",
       "      <td>True</td>\n",
       "      <td>False</td>\n",
       "    </tr>\n",
       "    <tr>\n",
       "      <th>2803</th>\n",
       "      <td>307703</td>\n",
       "      <td>gate_40</td>\n",
       "      <td>0</td>\n",
       "      <td>True</td>\n",
       "      <td>True</td>\n",
       "    </tr>\n",
       "    <tr>\n",
       "      <th>3994</th>\n",
       "      <td>442819</td>\n",
       "      <td>gate_30</td>\n",
       "      <td>0</td>\n",
       "      <td>True</td>\n",
       "      <td>False</td>\n",
       "    </tr>\n",
       "    <tr>\n",
       "      <th>...</th>\n",
       "      <td>...</td>\n",
       "      <td>...</td>\n",
       "      <td>...</td>\n",
       "      <td>...</td>\n",
       "      <td>...</td>\n",
       "    </tr>\n",
       "    <tr>\n",
       "      <th>86779</th>\n",
       "      <td>9616345</td>\n",
       "      <td>gate_40</td>\n",
       "      <td>0</td>\n",
       "      <td>True</td>\n",
       "      <td>False</td>\n",
       "    </tr>\n",
       "    <tr>\n",
       "      <th>87635</th>\n",
       "      <td>9708844</td>\n",
       "      <td>gate_30</td>\n",
       "      <td>0</td>\n",
       "      <td>True</td>\n",
       "      <td>False</td>\n",
       "    </tr>\n",
       "    <tr>\n",
       "      <th>87973</th>\n",
       "      <td>9750017</td>\n",
       "      <td>gate_40</td>\n",
       "      <td>0</td>\n",
       "      <td>True</td>\n",
       "      <td>False</td>\n",
       "    </tr>\n",
       "    <tr>\n",
       "      <th>88671</th>\n",
       "      <td>9830174</td>\n",
       "      <td>gate_40</td>\n",
       "      <td>0</td>\n",
       "      <td>True</td>\n",
       "      <td>False</td>\n",
       "    </tr>\n",
       "    <tr>\n",
       "      <th>90007</th>\n",
       "      <td>9979148</td>\n",
       "      <td>gate_40</td>\n",
       "      <td>0</td>\n",
       "      <td>True</td>\n",
       "      <td>False</td>\n",
       "    </tr>\n",
       "  </tbody>\n",
       "</table>\n",
       "<p>111 rows × 5 columns</p>\n",
       "</div>"
      ],
      "text/plain": [
       "        userid  version  sum_gamerounds  retention_1  retention_7\n",
       "1000    110479  gate_30               0        False         True\n",
       "1872    203165  gate_30               0         True        False\n",
       "2330    257330  gate_30               0         True        False\n",
       "2803    307703  gate_40               0         True         True\n",
       "3994    442819  gate_30               0         True        False\n",
       "...        ...      ...             ...          ...          ...\n",
       "86779  9616345  gate_40               0         True        False\n",
       "87635  9708844  gate_30               0         True        False\n",
       "87973  9750017  gate_40               0         True        False\n",
       "88671  9830174  gate_40               0         True        False\n",
       "90007  9979148  gate_40               0         True        False\n",
       "\n",
       "[111 rows x 5 columns]"
      ]
     },
     "execution_count": 173,
     "metadata": {},
     "output_type": "execute_result"
    }
   ],
   "source": [
    "df.loc[(df[\"sum_gamerounds\"] == 0) & ((df[\"retention_1\"] == True) | (df[\"retention_7\"] == True))]"
   ]
  },
  {
   "cell_type": "code",
   "execution_count": 174,
   "id": "liberal-anthropology",
   "metadata": {},
   "outputs": [
    {
     "data": {
      "text/plain": [
       "90077"
      ]
     },
     "execution_count": 174,
     "metadata": {},
     "output_type": "execute_result"
    }
   ],
   "source": [
    "df = df.drop(df[(df[\"sum_gamerounds\"] == 0) & ((df[\"retention_1\"] == True) | (df[\"retention_7\"] == True))].index)\n",
    "df.shape[0]"
   ]
  },
  {
   "cell_type": "markdown",
   "id": "civic-organizer",
   "metadata": {},
   "source": [
    "### Анализ поведения игроков двух групп"
   ]
  },
  {
   "cell_type": "code",
   "execution_count": 182,
   "id": "moving-parking",
   "metadata": {},
   "outputs": [
    {
     "data": {
      "image/png": "[encoded data removed]",
      "text/plain": [
       "<Figure size 432x288 with 1 Axes>"
      ]
     },
     "metadata": {
      "needs_background": "light"
     },
     "output_type": "display_data"
    }
   ],
   "source": [
    "# Большая часть игроков не доходит до 50 уровня игры\n",
    "df.groupby(\"sum_gamerounds\").userid.count()[:200].plot()\n",
    "plt.suptitle(\"Число игроков по раундам игры\", fontsize = 12)\n",
    "plt.tight_layout(pad=1);"
   ]
  },
  {
   "cell_type": "code",
   "execution_count": 175,
   "id": "reduced-professor",
   "metadata": {},
   "outputs": [
    {
     "data": {
      "text/html": [
       "<div>\n",
       "<style scoped>\n",
       "    .dataframe tbody tr th:only-of-type {\n",
       "        vertical-align: middle;\n",
       "    }\n",
       "\n",
       "    .dataframe tbody tr th {\n",
       "        vertical-align: top;\n",
       "    }\n",
       "\n",
       "    .dataframe thead th {\n",
       "        text-align: right;\n",
       "    }\n",
       "</style>\n",
       "<table border=\"1\" class=\"dataframe\">\n",
       "  <thead>\n",
       "    <tr style=\"text-align: right;\">\n",
       "      <th></th>\n",
       "      <th>count</th>\n",
       "      <th>mean</th>\n",
       "      <th>std</th>\n",
       "      <th>min</th>\n",
       "      <th>1%</th>\n",
       "      <th>5%</th>\n",
       "      <th>10%</th>\n",
       "      <th>20%</th>\n",
       "      <th>50%</th>\n",
       "      <th>75%</th>\n",
       "      <th>80%</th>\n",
       "      <th>90%</th>\n",
       "      <th>95%</th>\n",
       "      <th>99%</th>\n",
       "      <th>max</th>\n",
       "    </tr>\n",
       "  </thead>\n",
       "  <tbody>\n",
       "    <tr>\n",
       "      <th>sum_gamerounds</th>\n",
       "      <td>90077.0</td>\n",
       "      <td>51.383494</td>\n",
       "      <td>102.730152</td>\n",
       "      <td>0.0</td>\n",
       "      <td>0.0</td>\n",
       "      <td>1.0</td>\n",
       "      <td>1.0</td>\n",
       "      <td>4.0</td>\n",
       "      <td>17.0</td>\n",
       "      <td>51.0</td>\n",
       "      <td>67.0</td>\n",
       "      <td>135.0</td>\n",
       "      <td>221.0</td>\n",
       "      <td>493.0</td>\n",
       "      <td>2961.0</td>\n",
       "    </tr>\n",
       "  </tbody>\n",
       "</table>\n",
       "</div>"
      ],
      "text/plain": [
       "                  count       mean         std  min   1%   5%  10%  20%   50%  \\\n",
       "sum_gamerounds  90077.0  51.383494  102.730152  0.0  0.0  1.0  1.0  4.0  17.0   \n",
       "\n",
       "                 75%   80%    90%    95%    99%     max  \n",
       "sum_gamerounds  51.0  67.0  135.0  221.0  493.0  2961.0  "
      ]
     },
     "execution_count": 175,
     "metadata": {},
     "output_type": "execute_result"
    }
   ],
   "source": [
    "#Половина игроков играла не более 17 раундов игр, \n",
    "# вопрос в том, как считается sum_gamerounds и нужно ли исключать тех, у кого число раундов меньше 30, на которых показываются \"ворота\"\n",
    "# Т.к есть игроки, играющие больше 2 тыс. sum_gamerounds в неделю, будем предполагать, что это раунды игры в т.ч. непройденные\n",
    "# Т.е. юзеры, которые сыграли меньше 30 раундов и соответственно 30 уровня до показа ворот вообще не доходили, таких далее будем исключать из анализа\n",
    "df.describe([0.01, 0.05, 0.10, 0.20, 0.75, 0.80, 0.90, 0.95, 0.99])[[\"sum_gamerounds\"]].T"
   ]
  },
  {
   "cell_type": "code",
   "execution_count": 218,
   "id": "optional-cleaners",
   "metadata": {},
   "outputs": [
    {
     "data": {
      "text/plain": [
       "33881"
      ]
     },
     "execution_count": 218,
     "metadata": {},
     "output_type": "execute_result"
    }
   ],
   "source": [
    "df = df.drop(df[df[\"sum_gamerounds\"] < 29].index)\n",
    "df.shape[0]"
   ]
  },
  {
   "cell_type": "code",
   "execution_count": 219,
   "id": "becoming-emphasis",
   "metadata": {},
   "outputs": [
    {
     "data": {
      "image/png": "[encoded data removed]",
      "text/plain": [
       "<Figure size 1152x576 with 2 Axes>"
      ]
     },
     "metadata": {
      "needs_background": "light"
     },
     "output_type": "display_data"
    }
   ],
   "source": [
    "# Даже после исключения игроков, сыгравших менее 30 раундов, распределение числа сыгранных игр имеет значительное смещение влево\n",
    "plt.figure(figsize = (16, 8))\n",
    "\n",
    "plt.subplot(121)\n",
    "df['sum_gamerounds'].hist(density=True)\n",
    "plt.ylabel('count')\n",
    "plt.xlabel('sum_gamerounds')\n",
    "\n",
    "plt.subplot(122)\n",
    "sns.kdeplot(df['sum_gamerounds'], shade=True, legend=False)\n",
    "plt.xlabel('sum_gamerounds')\n",
    "\n",
    "plt.suptitle('Sum Gamerounds Distribution')\n",
    "plt.show()"
   ]
  },
  {
   "cell_type": "code",
   "execution_count": 220,
   "id": "adolescent-avenue",
   "metadata": {},
   "outputs": [
    {
     "data": {
      "text/html": [
       "<div>\n",
       "<style scoped>\n",
       "    .dataframe tbody tr th:only-of-type {\n",
       "        vertical-align: middle;\n",
       "    }\n",
       "\n",
       "    .dataframe tbody tr th {\n",
       "        vertical-align: top;\n",
       "    }\n",
       "\n",
       "    .dataframe thead th {\n",
       "        text-align: right;\n",
       "    }\n",
       "</style>\n",
       "<table border=\"1\" class=\"dataframe\">\n",
       "  <thead>\n",
       "    <tr style=\"text-align: right;\">\n",
       "      <th></th>\n",
       "      <th>count</th>\n",
       "      <th>mean</th>\n",
       "      <th>std</th>\n",
       "      <th>min</th>\n",
       "      <th>1%</th>\n",
       "      <th>5%</th>\n",
       "      <th>10%</th>\n",
       "      <th>20%</th>\n",
       "      <th>50%</th>\n",
       "      <th>75%</th>\n",
       "      <th>80%</th>\n",
       "      <th>90%</th>\n",
       "      <th>95%</th>\n",
       "      <th>99%</th>\n",
       "      <th>max</th>\n",
       "    </tr>\n",
       "  </thead>\n",
       "  <tbody>\n",
       "    <tr>\n",
       "      <th>sum_gamerounds</th>\n",
       "      <td>33881.0</td>\n",
       "      <td>121.572327</td>\n",
       "      <td>141.640065</td>\n",
       "      <td>29.0</td>\n",
       "      <td>29.0</td>\n",
       "      <td>31.0</td>\n",
       "      <td>34.0</td>\n",
       "      <td>40.0</td>\n",
       "      <td>72.0</td>\n",
       "      <td>142.0</td>\n",
       "      <td>167.0</td>\n",
       "      <td>265.0</td>\n",
       "      <td>375.0</td>\n",
       "      <td>696.0</td>\n",
       "      <td>2961.0</td>\n",
       "    </tr>\n",
       "  </tbody>\n",
       "</table>\n",
       "</div>"
      ],
      "text/plain": [
       "                  count        mean         std   min    1%    5%   10%   20%  \\\n",
       "sum_gamerounds  33881.0  121.572327  141.640065  29.0  29.0  31.0  34.0  40.0   \n",
       "\n",
       "                 50%    75%    80%    90%    95%    99%     max  \n",
       "sum_gamerounds  72.0  142.0  167.0  265.0  375.0  696.0  2961.0  "
      ]
     },
     "execution_count": 220,
     "metadata": {},
     "output_type": "execute_result"
    }
   ],
   "source": [
    "# После исключения игроков не дошедших до показа \"ворот\" осталось 33.8 тыс.наблюдений со следующим распределением числа раундов:\n",
    "df.describe([0.01, 0.05, 0.10, 0.20, 0.75, 0.80, 0.90, 0.95, 0.99])[[\"sum_gamerounds\"]].T"
   ]
  },
  {
   "cell_type": "code",
   "execution_count": 221,
   "id": "juvenile-request",
   "metadata": {},
   "outputs": [
    {
     "data": {
      "text/html": [
       "<div>\n",
       "<style scoped>\n",
       "    .dataframe tbody tr th:only-of-type {\n",
       "        vertical-align: middle;\n",
       "    }\n",
       "\n",
       "    .dataframe tbody tr th {\n",
       "        vertical-align: top;\n",
       "    }\n",
       "\n",
       "    .dataframe thead th {\n",
       "        text-align: right;\n",
       "    }\n",
       "</style>\n",
       "<table border=\"1\" class=\"dataframe\">\n",
       "  <thead>\n",
       "    <tr style=\"text-align: right;\">\n",
       "      <th></th>\n",
       "      <th>count</th>\n",
       "      <th>median</th>\n",
       "      <th>mean</th>\n",
       "      <th>std</th>\n",
       "      <th>max</th>\n",
       "    </tr>\n",
       "    <tr>\n",
       "      <th>version</th>\n",
       "      <th></th>\n",
       "      <th></th>\n",
       "      <th></th>\n",
       "      <th></th>\n",
       "      <th></th>\n",
       "    </tr>\n",
       "  </thead>\n",
       "  <tbody>\n",
       "    <tr>\n",
       "      <th>gate_30</th>\n",
       "      <td>16957</td>\n",
       "      <td>70</td>\n",
       "      <td>120.434688</td>\n",
       "      <td>140.235673</td>\n",
       "      <td>2961</td>\n",
       "    </tr>\n",
       "    <tr>\n",
       "      <th>gate_40</th>\n",
       "      <td>16924</td>\n",
       "      <td>74</td>\n",
       "      <td>122.712184</td>\n",
       "      <td>143.028435</td>\n",
       "      <td>2640</td>\n",
       "    </tr>\n",
       "  </tbody>\n",
       "</table>\n",
       "</div>"
      ],
      "text/plain": [
       "         count  median        mean         std   max\n",
       "version                                             \n",
       "gate_30  16957      70  120.434688  140.235673  2961\n",
       "gate_40  16924      74  122.712184  143.028435  2640"
      ]
     },
     "execution_count": 221,
     "metadata": {},
     "output_type": "execute_result"
    }
   ],
   "source": [
    "# По числу игроков двух анализируемых групп (тестовой и контрольной) - выборка сбалансирована\n",
    "df.groupby(\"version\").sum_gamerounds.agg([\"count\", \"median\", \"mean\", \"std\", \"max\"])"
   ]
  },
  {
   "cell_type": "code",
   "execution_count": 180,
   "id": "dimensional-protocol",
   "metadata": {},
   "outputs": [
    {
     "data": {
      "text/html": [
       "<div>\n",
       "<style scoped>\n",
       "    .dataframe tbody tr th:only-of-type {\n",
       "        vertical-align: middle;\n",
       "    }\n",
       "\n",
       "    .dataframe tbody tr th {\n",
       "        vertical-align: top;\n",
       "    }\n",
       "\n",
       "    .dataframe thead th {\n",
       "        text-align: right;\n",
       "    }\n",
       "</style>\n",
       "<table border=\"1\" class=\"dataframe\">\n",
       "  <thead>\n",
       "    <tr style=\"text-align: right;\">\n",
       "      <th></th>\n",
       "      <th></th>\n",
       "      <th>count</th>\n",
       "      <th>median</th>\n",
       "      <th>mean</th>\n",
       "      <th>std</th>\n",
       "      <th>max</th>\n",
       "    </tr>\n",
       "    <tr>\n",
       "      <th>version</th>\n",
       "      <th>retention_1</th>\n",
       "      <th></th>\n",
       "      <th></th>\n",
       "      <th></th>\n",
       "      <th></th>\n",
       "      <th></th>\n",
       "    </tr>\n",
       "  </thead>\n",
       "  <tbody>\n",
       "    <tr>\n",
       "      <th rowspan=\"2\" valign=\"top\">gate_30</th>\n",
       "      <th>False</th>\n",
       "      <td>3439</td>\n",
       "      <td>47</td>\n",
       "      <td>72.612387</td>\n",
       "      <td>74.861408</td>\n",
       "      <td>1072</td>\n",
       "    </tr>\n",
       "    <tr>\n",
       "      <th>True</th>\n",
       "      <td>13518</td>\n",
       "      <td>80</td>\n",
       "      <td>132.600755</td>\n",
       "      <td>150.047305</td>\n",
       "      <td>2961</td>\n",
       "    </tr>\n",
       "    <tr>\n",
       "      <th rowspan=\"2\" valign=\"top\">gate_40</th>\n",
       "      <th>False</th>\n",
       "      <td>3399</td>\n",
       "      <td>51</td>\n",
       "      <td>75.279494</td>\n",
       "      <td>72.934966</td>\n",
       "      <td>1241</td>\n",
       "    </tr>\n",
       "    <tr>\n",
       "      <th>True</th>\n",
       "      <td>13525</td>\n",
       "      <td>83</td>\n",
       "      <td>134.632606</td>\n",
       "      <td>153.474798</td>\n",
       "      <td>2640</td>\n",
       "    </tr>\n",
       "  </tbody>\n",
       "</table>\n",
       "</div>"
      ],
      "text/plain": [
       "                     count  median        mean         std   max\n",
       "version retention_1                                             \n",
       "gate_30 False         3439      47   72.612387   74.861408  1072\n",
       "        True         13518      80  132.600755  150.047305  2961\n",
       "gate_40 False         3399      51   75.279494   72.934966  1241\n",
       "        True         13525      83  134.632606  153.474798  2640"
      ]
     },
     "execution_count": 180,
     "metadata": {},
     "output_type": "execute_result"
    }
   ],
   "source": [
    "# По метрике retention_1 группы А и В выглядят очень похожими по среднему и медианному числу сыгранных игр \n",
    "# При этом показатель среднего числа сыгранных игр несколько выше в тестовой группе В \n",
    "df.groupby([\"version\", \"retention_1\"]).sum_gamerounds.agg([\"count\", \"median\", \"mean\", \"std\", \"max\"])"
   ]
  },
  {
   "cell_type": "code",
   "execution_count": 181,
   "id": "joined-survival",
   "metadata": {},
   "outputs": [
    {
     "data": {
      "text/html": [
       "<div>\n",
       "<style scoped>\n",
       "    .dataframe tbody tr th:only-of-type {\n",
       "        vertical-align: middle;\n",
       "    }\n",
       "\n",
       "    .dataframe tbody tr th {\n",
       "        vertical-align: top;\n",
       "    }\n",
       "\n",
       "    .dataframe thead th {\n",
       "        text-align: right;\n",
       "    }\n",
       "</style>\n",
       "<table border=\"1\" class=\"dataframe\">\n",
       "  <thead>\n",
       "    <tr style=\"text-align: right;\">\n",
       "      <th></th>\n",
       "      <th></th>\n",
       "      <th>count</th>\n",
       "      <th>median</th>\n",
       "      <th>mean</th>\n",
       "      <th>std</th>\n",
       "      <th>max</th>\n",
       "    </tr>\n",
       "    <tr>\n",
       "      <th>version</th>\n",
       "      <th>retention_7</th>\n",
       "      <th></th>\n",
       "      <th></th>\n",
       "      <th></th>\n",
       "      <th></th>\n",
       "      <th></th>\n",
       "    </tr>\n",
       "  </thead>\n",
       "  <tbody>\n",
       "    <tr>\n",
       "      <th rowspan=\"2\" valign=\"top\">gate_30</th>\n",
       "      <th>False</th>\n",
       "      <td>9598</td>\n",
       "      <td>51</td>\n",
       "      <td>72.828714</td>\n",
       "      <td>62.482521</td>\n",
       "      <td>981</td>\n",
       "    </tr>\n",
       "    <tr>\n",
       "      <th>True</th>\n",
       "      <td>7359</td>\n",
       "      <td>126</td>\n",
       "      <td>182.524935</td>\n",
       "      <td>182.797674</td>\n",
       "      <td>2961</td>\n",
       "    </tr>\n",
       "    <tr>\n",
       "      <th rowspan=\"2\" valign=\"top\">gate_40</th>\n",
       "      <th>False</th>\n",
       "      <td>9743</td>\n",
       "      <td>54</td>\n",
       "      <td>74.112080</td>\n",
       "      <td>64.910153</td>\n",
       "      <td>2640</td>\n",
       "    </tr>\n",
       "    <tr>\n",
       "      <th>True</th>\n",
       "      <td>7181</td>\n",
       "      <td>130</td>\n",
       "      <td>188.651581</td>\n",
       "      <td>186.939183</td>\n",
       "      <td>2294</td>\n",
       "    </tr>\n",
       "  </tbody>\n",
       "</table>\n",
       "</div>"
      ],
      "text/plain": [
       "                     count  median        mean         std   max\n",
       "version retention_7                                             \n",
       "gate_30 False         9598      51   72.828714   62.482521   981\n",
       "        True          7359     126  182.524935  182.797674  2961\n",
       "gate_40 False         9743      54   74.112080   64.910153  2640\n",
       "        True          7181     130  188.651581  186.939183  2294"
      ]
     },
     "execution_count": 181,
     "metadata": {},
     "output_type": "execute_result"
    }
   ],
   "source": [
    "# По метрике retention_7 группы А и В также выглядят очень похожими по основным стат. метрикам числа игр \n",
    "# Показатель среднего числа сыгранных игр также несколько выше в тестовой группе В \n",
    "df.groupby([\"version\", \"retention_7\"]).sum_gamerounds.agg([\"count\", \"median\", \"mean\", \"std\", \"max\"])"
   ]
  },
  {
   "cell_type": "code",
   "execution_count": 183,
   "id": "colored-fraction",
   "metadata": {},
   "outputs": [],
   "source": [
    "# Создадим признак - возвращение в приложение и либо на 1 либо на 7 день после установки игры (т.е. кто показал какую-то активность)\n",
    "df['retention'] = False\n",
    "retention =( (df['retention_1'] == True) | (df['retention_7'] == True) )\n",
    "df.loc[retention, 'retention'] = True"
   ]
  },
  {
   "cell_type": "code",
   "execution_count": 184,
   "id": "prescribed-obligation",
   "metadata": {},
   "outputs": [
    {
     "data": {
      "text/html": [
       "<div>\n",
       "<style scoped>\n",
       "    .dataframe tbody tr th:only-of-type {\n",
       "        vertical-align: middle;\n",
       "    }\n",
       "\n",
       "    .dataframe tbody tr th {\n",
       "        vertical-align: top;\n",
       "    }\n",
       "\n",
       "    .dataframe thead th {\n",
       "        text-align: right;\n",
       "    }\n",
       "</style>\n",
       "<table border=\"1\" class=\"dataframe\">\n",
       "  <thead>\n",
       "    <tr style=\"text-align: right;\">\n",
       "      <th></th>\n",
       "      <th></th>\n",
       "      <th>count</th>\n",
       "      <th>median</th>\n",
       "      <th>mean</th>\n",
       "      <th>std</th>\n",
       "      <th>max</th>\n",
       "    </tr>\n",
       "    <tr>\n",
       "      <th>version</th>\n",
       "      <th>retention</th>\n",
       "      <th></th>\n",
       "      <th></th>\n",
       "      <th></th>\n",
       "      <th></th>\n",
       "      <th></th>\n",
       "    </tr>\n",
       "  </thead>\n",
       "  <tbody>\n",
       "    <tr>\n",
       "      <th rowspan=\"2\" valign=\"top\">gate_30</th>\n",
       "      <th>False</th>\n",
       "      <td>2256</td>\n",
       "      <td>41</td>\n",
       "      <td>55.393617</td>\n",
       "      <td>47.166415</td>\n",
       "      <td>981</td>\n",
       "    </tr>\n",
       "    <tr>\n",
       "      <th>True</th>\n",
       "      <td>14701</td>\n",
       "      <td>79</td>\n",
       "      <td>130.415822</td>\n",
       "      <td>146.949156</td>\n",
       "      <td>2961</td>\n",
       "    </tr>\n",
       "    <tr>\n",
       "      <th rowspan=\"2\" valign=\"top\">gate_40</th>\n",
       "      <th>False</th>\n",
       "      <td>2273</td>\n",
       "      <td>44</td>\n",
       "      <td>57.795864</td>\n",
       "      <td>42.210078</td>\n",
       "      <td>547</td>\n",
       "    </tr>\n",
       "    <tr>\n",
       "      <th>True</th>\n",
       "      <td>14651</td>\n",
       "      <td>82</td>\n",
       "      <td>132.783496</td>\n",
       "      <td>150.331438</td>\n",
       "      <td>2640</td>\n",
       "    </tr>\n",
       "  </tbody>\n",
       "</table>\n",
       "</div>"
      ],
      "text/plain": [
       "                   count  median        mean         std   max\n",
       "version retention                                             \n",
       "gate_30 False       2256      41   55.393617   47.166415   981\n",
       "        True       14701      79  130.415822  146.949156  2961\n",
       "gate_40 False       2273      44   57.795864   42.210078   547\n",
       "        True       14651      82  132.783496  150.331438  2640"
      ]
     },
     "execution_count": 184,
     "metadata": {},
     "output_type": "execute_result"
    }
   ],
   "source": [
    "# У таких игроков отличия между А и В группой по среднему и медианному числу сыгранных игр также не выражены явно\n",
    "df.groupby([\"version\", \"retention\"]).sum_gamerounds.agg([\"count\", \"median\", \"mean\", \"std\", \"max\"])"
   ]
  },
  {
   "cell_type": "code",
   "execution_count": 185,
   "id": "cleared-sitting",
   "metadata": {},
   "outputs": [
    {
     "data": {
      "text/html": [
       "<div>\n",
       "<style scoped>\n",
       "    .dataframe tbody tr th:only-of-type {\n",
       "        vertical-align: middle;\n",
       "    }\n",
       "\n",
       "    .dataframe tbody tr th {\n",
       "        vertical-align: top;\n",
       "    }\n",
       "\n",
       "    .dataframe thead th {\n",
       "        text-align: right;\n",
       "    }\n",
       "</style>\n",
       "<table border=\"1\" class=\"dataframe\">\n",
       "  <thead>\n",
       "    <tr style=\"text-align: right;\">\n",
       "      <th></th>\n",
       "      <th>version</th>\n",
       "      <th>retention_full</th>\n",
       "      <th>count</th>\n",
       "      <th>median</th>\n",
       "      <th>mean</th>\n",
       "      <th>std</th>\n",
       "      <th>max</th>\n",
       "    </tr>\n",
       "  </thead>\n",
       "  <tbody>\n",
       "    <tr>\n",
       "      <th>0</th>\n",
       "      <td>gate_30</td>\n",
       "      <td>False-False</td>\n",
       "      <td>2256</td>\n",
       "      <td>41</td>\n",
       "      <td>55.393617</td>\n",
       "      <td>47.166415</td>\n",
       "      <td>981</td>\n",
       "    </tr>\n",
       "    <tr>\n",
       "      <th>1</th>\n",
       "      <td>gate_30</td>\n",
       "      <td>False-True</td>\n",
       "      <td>1183</td>\n",
       "      <td>70</td>\n",
       "      <td>105.448859</td>\n",
       "      <td>102.036326</td>\n",
       "      <td>1072</td>\n",
       "    </tr>\n",
       "    <tr>\n",
       "      <th>2</th>\n",
       "      <td>gate_30</td>\n",
       "      <td>True-False</td>\n",
       "      <td>7342</td>\n",
       "      <td>55</td>\n",
       "      <td>78.186053</td>\n",
       "      <td>65.561791</td>\n",
       "      <td>918</td>\n",
       "    </tr>\n",
       "    <tr>\n",
       "      <th>3</th>\n",
       "      <td>gate_30</td>\n",
       "      <td>True-True</td>\n",
       "      <td>6176</td>\n",
       "      <td>140</td>\n",
       "      <td>197.288698</td>\n",
       "      <td>190.964802</td>\n",
       "      <td>2961</td>\n",
       "    </tr>\n",
       "    <tr>\n",
       "      <th>4</th>\n",
       "      <td>gate_40</td>\n",
       "      <td>False-False</td>\n",
       "      <td>2273</td>\n",
       "      <td>44</td>\n",
       "      <td>57.795864</td>\n",
       "      <td>42.210078</td>\n",
       "      <td>547</td>\n",
       "    </tr>\n",
       "    <tr>\n",
       "      <th>5</th>\n",
       "      <td>gate_40</td>\n",
       "      <td>False-True</td>\n",
       "      <td>1126</td>\n",
       "      <td>77</td>\n",
       "      <td>110.572824</td>\n",
       "      <td>102.979262</td>\n",
       "      <td>1241</td>\n",
       "    </tr>\n",
       "    <tr>\n",
       "      <th>6</th>\n",
       "      <td>gate_40</td>\n",
       "      <td>True-False</td>\n",
       "      <td>7470</td>\n",
       "      <td>58</td>\n",
       "      <td>79.076841</td>\n",
       "      <td>69.626894</td>\n",
       "      <td>2640</td>\n",
       "    </tr>\n",
       "    <tr>\n",
       "      <th>7</th>\n",
       "      <td>gate_40</td>\n",
       "      <td>True-True</td>\n",
       "      <td>6055</td>\n",
       "      <td>145</td>\n",
       "      <td>203.171263</td>\n",
       "      <td>195.270672</td>\n",
       "      <td>2294</td>\n",
       "    </tr>\n",
       "  </tbody>\n",
       "</table>\n",
       "</div>"
      ],
      "text/plain": [
       "   version retention_full  count  median        mean         std   max\n",
       "0  gate_30    False-False   2256      41   55.393617   47.166415   981\n",
       "1  gate_30     False-True   1183      70  105.448859  102.036326  1072\n",
       "2  gate_30     True-False   7342      55   78.186053   65.561791   918\n",
       "3  gate_30      True-True   6176     140  197.288698  190.964802  2961\n",
       "4  gate_40    False-False   2273      44   57.795864   42.210078   547\n",
       "5  gate_40     False-True   1126      77  110.572824  102.979262  1241\n",
       "6  gate_40     True-False   7470      58   79.076841   69.626894  2640\n",
       "7  gate_40      True-True   6055     145  203.171263  195.270672  2294"
      ]
     },
     "execution_count": 185,
     "metadata": {},
     "output_type": "execute_result"
    }
   ],
   "source": [
    "# Создадим признак - полное описание поведения игрока на 1 и на 7 день\n",
    "df[\"retention_full\"] = list(map(lambda x,y: str(x)+\"-\"+str(y), df.retention_1, df.retention_7))\n",
    "df.groupby([\"version\", \"retention_full\"]).sum_gamerounds.agg([\"count\", \"median\", \"mean\", \"std\", \"max\"]).reset_index()"
   ]
  },
  {
   "cell_type": "markdown",
   "id": "brazilian-hobby",
   "metadata": {},
   "source": [
    "#### Так как основной метрикой все-таки является удержание игрока, а не общее или среднее число сыгранных игр, далее для анализа будем использовать именно retention\n",
    "Выбор в пользу анализа коэф. удержания игрока на 7 день основывается на том, что по условию задачи ворота (Cat Gates) в текущей \n",
    "версии игры только на 30 уровне и большая часть игроков их просто не достигнет, играя всего 1 день."
   ]
  },
  {
   "cell_type": "code",
   "execution_count": 207,
   "id": "national-irish",
   "metadata": {},
   "outputs": [
    {
     "data": {
      "text/plain": [
       "version\n",
       "gate_30    0.433980\n",
       "gate_40    0.424309\n",
       "Name: retention_7, dtype: float64"
      ]
     },
     "execution_count": 207,
     "metadata": {},
     "output_type": "execute_result"
    }
   ],
   "source": [
    "#Показатель retention_7 в среднем при воротах на 30 уровне несколько выше, чем при их перемещении на 40 уровень\n",
    "df.groupby('version')['retention_7'].mean()"
   ]
  },
  {
   "cell_type": "code",
   "execution_count": 187,
   "id": "mathematical-treasure",
   "metadata": {},
   "outputs": [
    {
     "data": {
      "text/plain": [
       "<AxesSubplot:ylabel='Density'>"
      ]
     },
     "execution_count": 187,
     "metadata": {},
     "output_type": "execute_result"
    },
    {
     "data": {
      "image/png": "[encoded data removed]",
      "text/plain": [
       "<Figure size 432x288 with 1 Axes>"
      ]
     },
     "metadata": {
      "needs_background": "light"
     },
     "output_type": "display_data"
    }
   ],
   "source": [
    "# Creating a list with bootstrapped means for each AB-group\n",
    "boot_7d = []\n",
    "for i in range(1000):\n",
    "    boot_mean = df.sample(frac=1,replace=True).groupby('version')['retention_7'].mean()\n",
    "    boot_7d.append(boot_mean)\n",
    "    \n",
    "# Transforming the list to a DataFrame\n",
    "boot_7d = pd.DataFrame(boot_7d)\n",
    "\n",
    "boot_7d.plot(kind='density')"
   ]
  },
  {
   "cell_type": "code",
   "execution_count": 222,
   "id": "incorrect-deviation",
   "metadata": {},
   "outputs": [
    {
     "name": "stdout",
     "output_type": "stream",
     "text": [
      "Вероятность, что retention_7 выше в версии игры gate_30: 0.962\n"
     ]
    },
    {
     "data": {
      "image/png": "[encoded data removed]",
      "text/plain": [
       "<Figure size 432x288 with 1 Axes>"
      ]
     },
     "metadata": {
      "needs_background": "light"
     },
     "output_type": "display_data"
    }
   ],
   "source": [
    "# Adding a column with the % difference between the two AB-groups\n",
    "boot_7d['diff'] = (boot_7d.gate_30 - boot_7d.gate_40)/boot_7d.gate_40*100\n",
    "\n",
    "# Ploting the bootstrap % difference\n",
    "ax = boot_7d['diff'].plot(kind='density')\n",
    "ax.set_title('% разница в коэф. удержания на 7 день между группами АВ')\n",
    "\n",
    "# Из графика видно, что наиболее вероятная разница в % составляет около 2%\n",
    "# и что ~ 96% распределения выше 0% в пользу ворот на уровне 30\n",
    "print('Вероятность, что retention_7 выше в версии игры gate_30:',(boot_7d['diff'] > 0).mean())"
   ]
  },
  {
   "cell_type": "markdown",
   "id": "exact-consequence",
   "metadata": {},
   "source": [
    "### Проверка гипотезы о равенстве retention rate двух групп \n",
    "Выберем 95% уровень достоверности и проверим гипотезу, что коэф. удержания игроков в группах АВ все-таки равны\n",
    "\n",
    "- H0: mu(A retention_7) == mu(B retention_7)\n",
    "\n",
    "- H1: mu(A retention_7) > mu(B retention_7) исходя из выводов о среднем retention rate выше"
   ]
  },
  {
   "cell_type": "code",
   "execution_count": 223,
   "id": "focused-nicholas",
   "metadata": {},
   "outputs": [],
   "source": [
    "# Так как после исключения игроков с числом раундов < 30 осталось всего 33.8 тыс. наблюдений, \n",
    "# для проверки гипотезы о равенстве средних выберем 10 тыс. наблюдений из каждой группы\n",
    "required_n = 10000\n",
    "control_sample = df[df['version'] == 'gate_30'].sample(n=required_n, random_state=42)\n",
    "treatment_sample = df[df['version'] == 'gate_40'].sample(n=required_n, random_state=42)\n",
    "\n",
    "ab_test = pd.concat([control_sample, treatment_sample], axis=0)\n",
    "ab_test.reset_index(drop=True, inplace=True)"
   ]
  },
  {
   "cell_type": "code",
   "execution_count": 224,
   "id": "frank-negative",
   "metadata": {},
   "outputs": [
    {
     "data": {
      "text/plain": [
       "gate_40    10000\n",
       "gate_30    10000\n",
       "Name: version, dtype: int64"
      ]
     },
     "execution_count": 224,
     "metadata": {},
     "output_type": "execute_result"
    }
   ],
   "source": [
    "ab_test['version'].value_counts()"
   ]
  },
  {
   "cell_type": "code",
   "execution_count": 210,
   "id": "correct-blade",
   "metadata": {},
   "outputs": [
    {
     "data": {
      "image/png": "[encoded data removed]",
      "text/plain": [
       "<Figure size 576x432 with 1 Axes>"
      ]
     },
     "metadata": {
      "needs_background": "light"
     },
     "output_type": "display_data"
    }
   ],
   "source": [
    "# На графике видно, что коэф. удержания игрока в среднем выше в текущей версии игры (gate_30)\n",
    "plt.figure(figsize=(8,6))\n",
    "\n",
    "sns.barplot(x=ab_test['version'], y=ab_test['retention_7'], ci=False)\n",
    "\n",
    "plt.ylim(0.4, 0.45)\n",
    "plt.title('retention rate by group', pad=20)\n",
    "plt.xlabel('version', labelpad=15)\n",
    "plt.ylabel('retention average', labelpad=15);"
   ]
  },
  {
   "cell_type": "code",
   "execution_count": 196,
   "id": "mighty-garlic",
   "metadata": {},
   "outputs": [],
   "source": [
    "# Вычислим процент игроков, активных на.7 день, в каждой из групп (rate_a, rate_b)\n",
    "num_a, num_b = control_sample['version'].value_counts()[0], treatment_sample['version'].value_counts()[0]\n",
    "retention_a  = control_sample.loc[control_sample[\"retention_7\"] == True].shape[0] \n",
    "retention_b = treatment_sample.loc[treatment_sample[\"retention_7\"] == True].shape[0]\n",
    "rate_a = retention_a / num_a\n",
    "rate_b  = retention_b / num_b"
   ]
  },
  {
   "cell_type": "code",
   "execution_count": 206,
   "id": "floral-farmer",
   "metadata": {},
   "outputs": [
    {
     "data": {
      "image/png": "[encoded data removed]",
      "text/plain": [
       "<Figure size 432x288 with 1 Axes>"
      ]
     },
     "metadata": {
      "needs_background": "light"
     },
     "output_type": "display_data"
    }
   ],
   "source": [
    "# Метрика true/false представляет собой биномиальное распределение, зададим число удержанных игоков и построим распределение вероятности\n",
    "\n",
    "from scipy.stats import binom\n",
    "clicks = np.arange(4100, 4600)\n",
    "prob_a = binom(num_a, rate_a).pmf(clicks)\n",
    "prob_b = binom(num_b, rate_b).pmf(clicks)\n",
    "\n",
    "plt.bar(clicks, prob_a, label=\"A\", alpha=0.7)\n",
    "plt.bar(clicks, prob_b, label=\"B\", alpha=0.7)\n",
    "plt.legend()\n",
    "plt.xlabel(\"Num retentioned\"); plt.ylabel(\"Probability\");"
   ]
  },
  {
   "cell_type": "markdown",
   "id": "stable-macintosh",
   "metadata": {},
   "source": [
    "Распределения двух групп практически накладываются друг на друга и не имеют ярко выраженного отличия напр. по среднему значению"
   ]
  },
  {
   "cell_type": "code",
   "execution_count": 204,
   "id": "handy-ancient",
   "metadata": {},
   "outputs": [
    {
     "data": {
      "image/png": "[encoded data removed]",
      "text/plain": [
       "<Figure size 432x288 with 1 Axes>"
      ]
     },
     "metadata": {
      "needs_background": "light"
     },
     "output_type": "display_data"
    }
   ],
   "source": [
    "# Исходя из центральной предельной теоремы и достаточного числа наблюдений можем предположить, что\n",
    "# окончательная оценка среднего коэф. удержания игрока можно аппроксимировать нормальным распределением со стандартной ошибкой, равной\n",
    "# std = sqrt(p(1-p)/n) sourse:https://en.wikipedia.org/wiki/Binomial_distribution#Normal_approximation\n",
    "from scipy.stats import norm\n",
    "\n",
    "std_a = np.sqrt(rate_a * (1 - rate_a) / num_a)\n",
    "std_b = np.sqrt(rate_b * (1 - rate_b) / num_b)\n",
    "\n",
    "click_rate = np.linspace(0.3, 0.6, 4000)\n",
    "prob_a = norm(rate_a, std_a).pdf(click_rate)\n",
    "prob_b = norm(rate_b, std_b).pdf(click_rate)\n",
    "\n",
    "plt.plot(click_rate, prob_a, label=\"A\")\n",
    "plt.plot(click_rate, prob_b, label=\"B\")\n",
    "plt.legend(frameon=False)\n",
    "plt.xlabel(\"Retention rate\"); plt.ylabel(\"Probability\");"
   ]
  },
  {
   "cell_type": "code",
   "execution_count": 225,
   "id": "standing-grill",
   "metadata": {},
   "outputs": [
    {
     "name": "stdout",
     "output_type": "stream",
     "text": [
      "zscore is 0.171, with p-value 0.432\n"
     ]
    },
    {
     "data": {
      "image/png": "[encoded data removed]",
      "text/plain": [
       "<Figure size 432x288 with 1 Axes>"
      ]
     },
     "metadata": {
      "needs_background": "light"
     },
     "output_type": "display_data"
    }
   ],
   "source": [
    "# Разность нормально распределенных случайных величин также является нормально распределенной величиной\n",
    "# со средним, равным разности средних, ст. отклонением равным корню из суммы дисперсий \n",
    "z_score = (rate_a - rate_b) / np.sqrt(std_a**2 + std_b**2)\n",
    "#поменять местами а и в, если H1 гипотеза о том, что В лучше А\n",
    "p = norm(rate_a - rate_b, np.sqrt(std_a**2 + std_b**2))\n",
    "\n",
    "x = np.linspace(-0.1, 0.1, 1000)\n",
    "y = p.pdf(x)\n",
    "area_under_curve = p.sf(0)\n",
    "plt.plot(x, y, label=\"PDF\")\n",
    "#поменять местами а и в, если H1 гипотеза о том, что В лучше А\n",
    "plt.fill_between(x, 0, y, where=x>0, label=\"Prob(a>b)\", alpha=0.5)\n",
    "plt.annotate(f\"Area={area_under_curve:0.3f}\", (-0.02, 20))\n",
    "plt.legend()\n",
    "plt.xlabel(\"Difference in conversion rate\"); plt.ylabel(\"Prob\");\n",
    "\n",
    "print(f\"zscore is {z_score:0.3f}, with p-value {norm().sf(z_score):0.3f}\")"
   ]
  },
  {
   "cell_type": "markdown",
   "id": "prime-spencer",
   "metadata": {},
   "source": [
    "p value больше 5%, нулевая гипотеза о равенстве retention rate для тестовой и проверочной групп не отклоняется\n",
    "Можем ожидать, что в 43% выбранных случаев retention_rate по группе А не будет отличаться от retention_rate по группе В"
   ]
  },
  {
   "cell_type": "code",
   "execution_count": 226,
   "id": "cosmetic-matrix",
   "metadata": {},
   "outputs": [
    {
     "name": "stdout",
     "output_type": "stream",
     "text": [
      "0.5679901623357617\n"
     ]
    }
   ],
   "source": [
    "def get_confidence_ab_test(retention_a, num_a, retention_b, num_b):\n",
    "    rate_a = retention_a / num_a\n",
    "    rate_b = retention_b / num_b\n",
    "    std_a = np.sqrt(rate_a * (1 - rate_a) / num_a)\n",
    "    std_b = np.sqrt(rate_b * (1 - rate_b) / num_b)\n",
    "    #поменять местами а и в, если H1 гипотеза о том, что В лучше А\n",
    "    z_score = (rate_a - rate_b) / np.sqrt(std_a**2 + std_b**2)\n",
    "    return norm.cdf(z_score)\n",
    "\n",
    "print(get_confidence_ab_test(retention_a, num_a, retention_b, num_b))"
   ]
  },
  {
   "cell_type": "code",
   "execution_count": 203,
   "id": "behavioral-budget",
   "metadata": {},
   "outputs": [
    {
     "name": "stdout",
     "output_type": "stream",
     "text": [
      "Mann-Whitney U test for null hypothesis A >= B is 0.432\n"
     ]
    }
   ],
   "source": [
    "from scipy.stats import mannwhitneyu\n",
    "a_dist = np.zeros(num_a)\n",
    "a_dist[:retention_a] = 1\n",
    "b_dist = np.zeros(num_b)\n",
    "b_dist[:retention_b] = 1\n",
    "stat, p_value = mannwhitneyu(a_dist, b_dist, alternative=\"greater\")\n",
    "#поменять greater на less, если H1 гипотеза о том, что В лучше А\n",
    "print(f\"Mann-Whitney U test for null hypothesis A >= B is {p_value:0.3f}\")\n",
    "# p-value is low and we can reject the null hypthesis о равенстве среднего процента удержания"
   ]
  },
  {
   "cell_type": "code",
   "execution_count": 215,
   "id": "satisfactory-bailey",
   "metadata": {},
   "outputs": [
    {
     "name": "stdout",
     "output_type": "stream",
     "text": [
      "z statistic: 0.17\n",
      "p-value: 0.864\n",
      "ci 95% for control group: [0.424, 0.443]\n",
      "ci 95% for treatment group: [0.422, 0.442]\n"
     ]
    }
   ],
   "source": [
    "# Посчитаем доверительные интервалы retantion rate для двух групп\n",
    "from statsmodels.stats.proportion import proportions_ztest, proportion_confint\n",
    "control_results = ab_test[ab_test['version'] == 'gate_30']['retention_7']\n",
    "treatment_results = ab_test[ab_test['version'] == 'gate_40']['retention_7']\n",
    "n_con = control_results.count()\n",
    "n_treat = treatment_results.count()\n",
    "successes = [control_results.sum(), treatment_results.sum()]\n",
    "nobs = [n_con, n_treat]\n",
    "\n",
    "z_stat, pval = proportions_ztest(successes, nobs=nobs)\n",
    "(lower_con, lower_treat), (upper_con, upper_treat) = proportion_confint(successes, nobs=nobs, alpha=0.05)\n",
    "\n",
    "print(f'z statistic: {z_stat:.2f}')\n",
    "print(f'p-value: {pval:.3f}')\n",
    "print(f'ci 95% for control group: [{lower_con:.3f}, {upper_con:.3f}]')\n",
    "print(f'ci 95% for treatment group: [{lower_treat:.3f}, {upper_treat:.3f}]')"
   ]
  },
  {
   "cell_type": "markdown",
   "id": "comparative-tooth",
   "metadata": {},
   "source": [
    "#### Так как p-value по всем проведенным тестам выше α=0.05, гипотезу о равенстве средних по двум группам нельзя отклонить\n",
    "#### и перемещение ворот на 40 уровень игры не дает целевого прироста по коэф. удержания игрока."
   ]
  }
 ],
 "metadata": {
  "kernelspec": {
   "display_name": "Python 3",
   "language": "python",
   "name": "python3"
  },
  "language_info": {
   "codemirror_mode": {
    "name": "ipython",
    "version": 3
   },
   "file_extension": ".py",
   "mimetype": "text/x-python",
   "name": "python",
   "nbconvert_exporter": "python",
   "pygments_lexer": "ipython3",
   "version": "3.8.5"
  }
 },
 "nbformat": 4,
 "nbformat_minor": 5
}
